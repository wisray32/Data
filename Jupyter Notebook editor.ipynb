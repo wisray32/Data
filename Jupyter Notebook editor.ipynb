{
    "cells": [
        {
            "cell_type": "markdown",
            "metadata": {
                "collapsed": true
            },
            "source": "# My Jupyter Notebook on IBM Watson Studio"
        },
        {
            "cell_type": "markdown",
            "metadata": {},
            "source": "**Amhenyulua Ighodalo Amiokhoria**\n\nResearch Assistant"
        },
        {
            "cell_type": "markdown",
            "metadata": {},
            "source": "*Data science fascinates me because it empowers me to extract valuable insights and patterns from vast and complex datasets, enabling informed decision-making and problem-solving across various domains.*\n\n*The ever-evolving nature of data science, with advancements in machine learning, artificial intelligence, and big data technologies, presents an exciting opportunity to stay at the forefront of cutting-edge technology and innovation.*"
        },
        {
            "cell_type": "markdown",
            "metadata": {},
            "source": "### This is a simple arithmetic expression to multiply integers"
        },
        {
            "cell_type": "code",
            "execution_count": 3,
            "metadata": {},
            "outputs": [
                {
                    "data": {
                        "text/plain": "25"
                    },
                    "execution_count": 3,
                    "metadata": {},
                    "output_type": "execute_result"
                }
            ],
            "source": "5*5"
        },
        {
            "cell_type": "markdown",
            "metadata": {},
            "source": "|Data Science Languages|\n|:---:|\n| Python|\n| R|\n| SQL|\n"
        },
        {
            "cell_type": "markdown",
            "metadata": {},
            "source": "[Data Science](https://www.oracle.com/ng/what-is-data-science/)"
        },
        {
            "cell_type": "markdown",
            "metadata": {},
            "source": "What makes up Data Science?\n![Data Science Framework](https://miro.medium.com/v2/resize:fit:720/format:webp/1*mgXvzNcwfpnBawI6XTkVRg.png)"
        },
        {
            "cell_type": "markdown",
            "metadata": {},
            "source": "1.Thanks for this Course\n* thanks for this course"
        },
        {
            "cell_type": "code",
            "execution_count": null,
            "metadata": {},
            "outputs": [],
            "source": ""
        }
    ],
    "metadata": {
        "kernelspec": {
            "display_name": "Python 3.10",
            "language": "python",
            "name": "python3"
        },
        "language_info": {
            "codemirror_mode": {
                "name": "ipython",
                "version": 3
            },
            "file_extension": ".py",
            "mimetype": "text/x-python",
            "name": "python",
            "nbconvert_exporter": "python",
            "pygments_lexer": "ipython3",
            "version": "3.10.9"
        }
    },
    "nbformat": 4,
    "nbformat_minor": 1
}